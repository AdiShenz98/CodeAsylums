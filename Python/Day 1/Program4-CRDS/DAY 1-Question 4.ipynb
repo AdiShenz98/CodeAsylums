{
 "cells": [
  {
   "cell_type": "code",
   "execution_count": 3,
   "metadata": {},
   "outputs": [
    {
     "name": "stdout",
     "output_type": "stream",
     "text": [
      "Enter the no of test cases :2\n",
      "Enter the no of levels of pyramid :3\n",
      "15\n",
      "Enter the no of levels of pyramid :4\n",
      "26\n"
     ]
    }
   ],
   "source": [
    "t=int(input(\"Enter the no of test cases :\"))\n",
    "\n",
    "while(t!=0):\n",
    "    n=int(input(\"Enter the no of levels of pyramid :\"))\n",
    "    sum=0\n",
    "    for i in range(n+1):\n",
    "        sum=sum+i\n",
    "    print(sum*3-n)\n",
    "    t=t-1\n"
   ]
  },
  {
   "cell_type": "code",
   "execution_count": null,
   "metadata": {},
   "outputs": [],
   "source": []
  }
 ],
 "metadata": {
  "kernelspec": {
   "display_name": "Python 3",
   "language": "python",
   "name": "python3"
  },
  "language_info": {
   "codemirror_mode": {
    "name": "ipython",
    "version": 3
   },
   "file_extension": ".py",
   "mimetype": "text/x-python",
   "name": "python",
   "nbconvert_exporter": "python",
   "pygments_lexer": "ipython3",
   "version": "3.7.3"
  }
 },
 "nbformat": 4,
 "nbformat_minor": 2
}
