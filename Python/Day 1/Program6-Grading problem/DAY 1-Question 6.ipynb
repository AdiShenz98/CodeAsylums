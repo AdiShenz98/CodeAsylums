{
 "cells": [
  {
   "cell_type": "code",
   "execution_count": null,
   "metadata": {},
   "outputs": [],
   "source": [
    "t=int(input(\"Enter the no of test cases : \"))\n",
    "while(t!=0):\n",
    "    n=int(input(\"Enter the marks :\"))\n",
    "    if(n<40):\n",
    "        print(n)\n",
    "    elif(n%5>2):\n",
    "        if(n%5==3):\n",
    "            print(n+2)\n",
    "        elif(n%5==4):\n",
    "            print(n+1)\n",
    "        else:\n",
    "            print(n)\n",
    "    t=t-1\n",
    "\n",
    "        \n"
   ]
  },
  {
   "cell_type": "code",
   "execution_count": null,
   "metadata": {},
   "outputs": [],
   "source": []
  },
  {
   "cell_type": "code",
   "execution_count": null,
   "metadata": {},
   "outputs": [],
   "source": []
  }
 ],
 "metadata": {
  "kernelspec": {
   "display_name": "Python 3",
   "language": "python",
   "name": "python3"
  },
  "language_info": {
   "codemirror_mode": {
    "name": "ipython",
    "version": 3
   },
   "file_extension": ".py",
   "mimetype": "text/x-python",
   "name": "python",
   "nbconvert_exporter": "python",
   "pygments_lexer": "ipython3",
   "version": "3.7.3"
  }
 },
 "nbformat": 4,
 "nbformat_minor": 2
}
